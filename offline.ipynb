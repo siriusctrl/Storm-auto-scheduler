{
 "cells": [
  {
   "cell_type": "code",
   "execution_count": 11,
   "source": [
    "import os\n",
    "import pickle\n",
    "import numpy as np\n",
    "\n",
    "from our_Wolpertinger import Wolpertinger\n",
    "from TD3 import TD3\n",
    "from tqdm import tqdm\n",
    "\n",
    "import torch\n",
    "\n",
    "import sys\n",
    "sys.path.append(os.path.join(os.getcwd(), 'Simulator'))\n",
    "from WordCounting import WordCountingEnv"
   ],
   "outputs": [],
   "metadata": {}
  },
  {
   "cell_type": "code",
   "execution_count": 12,
   "source": [
    "%load_ext autoreload\n",
    "%autoreload 2"
   ],
   "outputs": [
    {
     "output_type": "stream",
     "name": "stdout",
     "text": [
      "The autoreload extension is already loaded. To reload it, use:\n",
      "  %reload_ext autoreload\n"
     ]
    }
   ],
   "metadata": {}
  },
  {
   "cell_type": "code",
   "execution_count": 3,
   "source": [
    "with open(f\"./offline/random_con_2.pkl\", 'rb') as f:\n",
    "    buffer = pickle.load(f)"
   ],
   "outputs": [],
   "metadata": {}
  },
  {
   "cell_type": "code",
   "execution_count": 4,
   "source": [
    "buffer.sample(1)"
   ],
   "outputs": [
    {
     "output_type": "execute_result",
     "data": {
      "text/plain": [
       "(tensor([[0.0479, 0.1848, 0.0139, 0.1031, 0.1681, 0.1634, 0.1469, 0.0886, 0.0550,\n",
       "          0.0282, 0.0495, 0.1870, 0.1697, 0.0109, 0.0841, 0.1191, 0.1008, 0.1460,\n",
       "          0.1028, 0.0301, 0.0190, 0.1544, 0.0960, 0.0432, 0.0964, 0.1680, 0.0388,\n",
       "          0.0435, 0.1546, 0.1860, 4.9282, 4.9646, 5.0319, 4.9083, 5.1755, 4.8168,\n",
       "          5.0465, 5.0217, 5.0971, 4.9819, 5.1944, 4.9368, 5.1557, 4.9731, 4.9883,\n",
       "          4.8844, 5.0350, 4.8795, 4.7993, 5.0895]]),\n",
       " tensor([[0.6597, 0.5404, 0.3842, 0.3095, 0.3700, 0.4329, 0.9100, 0.4347, 0.3120,\n",
       "          0.4218, 0.8331, 0.2503, 0.1493, 0.3705, 0.5189, 0.6914, 0.4966, 0.7308,\n",
       "          0.5290, 0.9200, 0.9440, 0.1746, 0.9597, 0.4424, 0.9960, 0.7969, 0.4056,\n",
       "          0.3787, 0.8597, 0.1899]]),\n",
       " tensor([[0.1382, 0.1132, 0.0805, 0.0648, 0.0775, 0.0907, 0.1906, 0.0910, 0.0653,\n",
       "          0.0883, 0.1517, 0.0456, 0.0272, 0.0675, 0.0945, 0.1259, 0.0905, 0.1331,\n",
       "          0.0963, 0.1676, 0.1536, 0.0284, 0.1561, 0.0720, 0.1620, 0.1296, 0.0660,\n",
       "          0.0616, 0.1398, 0.0309, 4.9282, 4.9646, 5.0319, 4.9083, 5.1755, 4.8168,\n",
       "          5.0465, 5.0217, 5.0971, 4.9819, 5.1944, 4.9368, 5.1557, 4.9731, 4.9883,\n",
       "          4.8844, 5.0350, 4.8795, 4.7993, 5.0895]]),\n",
       " tensor([[-8.6472]]),\n",
       " tensor([[0.]]))"
      ]
     },
     "metadata": {},
     "execution_count": 4
    }
   ],
   "metadata": {}
  },
  {
   "cell_type": "code",
   "execution_count": 5,
   "source": [
    "device = torch.device(\"cuda\" if torch.cuda.is_available() else \"cpu\")\n",
    "buffer.device = device"
   ],
   "outputs": [],
   "metadata": {}
  },
  {
   "cell_type": "code",
   "execution_count": 6,
   "source": [
    "s = buffer.sample(1)\n",
    "state_dim = s[0].shape[-1]\n",
    "action_dim = s[1].shape[-1]"
   ],
   "outputs": [],
   "metadata": {}
  },
  {
   "cell_type": "code",
   "execution_count": 26,
   "source": [
    "def eval_policy(policy, eval_env, eval_steps=1):\n",
    "    avg_reward = 0.\n",
    "    state, done = eval_env.reset(), False\n",
    "    for _ in range(eval_steps):\n",
    "        action = policy.select_action(np.array(state))\n",
    "        state, reward, done, _ = eval_env.step(action)\n",
    "        avg_reward += reward\n",
    "        print()\n",
    "\n",
    "    avg_reward /= eval_steps\n",
    "\n",
    "    print(\"---------------------------------------\")\n",
    "    print(f\"Evaluation over {eval_steps} steps:{avg_reward:.3f}\")\n",
    "    print(\"---------------------------------------\")\n",
    "    return avg_reward"
   ],
   "outputs": [],
   "metadata": {}
  },
  {
   "cell_type": "code",
   "execution_count": 29,
   "source": [
    "model = TD3(state_dim, action_dim, 1)"
   ],
   "outputs": [],
   "metadata": {}
  },
  {
   "cell_type": "code",
   "execution_count": 44,
   "source": [
    "for i in tqdm(range(500)):\n",
    "    model.train(buffer, batch_size=128)\n",
    "    # if i % 2000 == 0 and i >= 2000:\n",
    "    #     eval_results.append(eval_policy(model, eval_env))"
   ],
   "outputs": [
    {
     "output_type": "stream",
     "name": "stderr",
     "text": [
      "100%|██████████| 500/500 [00:06<00:00, 76.95it/s]\n"
     ]
    }
   ],
   "metadata": {}
  },
  {
   "cell_type": "code",
   "execution_count": 45,
   "source": [
    "eval_env = WordCountingEnv(seed=2)"
   ],
   "outputs": [
    {
     "output_type": "stream",
     "name": "stdout",
     "text": [
      "Building Topology\n",
      "spout 20\n",
      "WordCount 40\n",
      "Database 40\n"
     ]
    }
   ],
   "metadata": {}
  },
  {
   "cell_type": "code",
   "execution_count": 46,
   "source": [
    "eval_policy(model, eval_env, 2)"
   ],
   "outputs": [
    {
     "output_type": "stream",
     "name": "stdout",
     "text": [
      "---------------------------------------\n",
      "Evaluation over 2 steps:-8.571\n",
      "---------------------------------------\n"
     ]
    },
    {
     "output_type": "execute_result",
     "data": {
      "text/plain": [
       "-8.57144549517184"
      ]
     },
     "metadata": {},
     "execution_count": 46
    }
   ],
   "metadata": {}
  },
  {
   "cell_type": "markdown",
   "source": [
    "# BCQ"
   ],
   "metadata": {}
  },
  {
   "cell_type": "code",
   "execution_count": 4,
   "source": [
    "from bcq import BCQ\n",
    "offline_model = BCQ(state_dim, action_dim, 1, device)"
   ],
   "outputs": [
    {
     "output_type": "error",
     "ename": "NameError",
     "evalue": "name 'state_dim' is not defined",
     "traceback": [
      "\u001b[0;31m---------------------------------------------------------------------------\u001b[0m",
      "\u001b[0;31mNameError\u001b[0m                                 Traceback (most recent call last)",
      "\u001b[0;32m<ipython-input-4-f25e71f1219a>\u001b[0m in \u001b[0;36m<module>\u001b[0;34m\u001b[0m\n\u001b[1;32m      1\u001b[0m \u001b[0;32mfrom\u001b[0m \u001b[0mbcq\u001b[0m \u001b[0;32mimport\u001b[0m \u001b[0mBCQ\u001b[0m\u001b[0;34m\u001b[0m\u001b[0;34m\u001b[0m\u001b[0m\n\u001b[0;32m----> 2\u001b[0;31m \u001b[0moffline_model\u001b[0m \u001b[0;34m=\u001b[0m \u001b[0mBCQ\u001b[0m\u001b[0;34m(\u001b[0m\u001b[0mstate_dim\u001b[0m\u001b[0;34m,\u001b[0m \u001b[0maction_dim\u001b[0m\u001b[0;34m,\u001b[0m \u001b[0;36m1\u001b[0m\u001b[0;34m,\u001b[0m \u001b[0mdevice\u001b[0m\u001b[0;34m)\u001b[0m\u001b[0;34m\u001b[0m\u001b[0;34m\u001b[0m\u001b[0m\n\u001b[0m",
      "\u001b[0;31mNameError\u001b[0m: name 'state_dim' is not defined"
     ]
    }
   ],
   "metadata": {}
  },
  {
   "cell_type": "code",
   "execution_count": 86,
   "source": [
    "offline_model.train(buffer, 5000)\n",
    "print('finish training')\n",
    "# eval_results.append(eval_policy(offline_model, eval_env))"
   ],
   "outputs": [
    {
     "output_type": "stream",
     "name": "stdout",
     "text": [
      "finish training\n"
     ]
    }
   ],
   "metadata": {}
  },
  {
   "cell_type": "code",
   "execution_count": 91,
   "source": [
    "np.argmax(offline_model.select_action(buffer.next_state[9749]).reshape((-1,5)), axis=1)"
   ],
   "outputs": [
    {
     "output_type": "execute_result",
     "data": {
      "text/plain": [
       "array([0, 0, 3, 3, 4, 2, 2, 3, 3, 0, 0, 4, 0, 4, 4, 0, 3, 2, 3, 0])"
      ]
     },
     "metadata": {},
     "execution_count": 91
    }
   ],
   "metadata": {}
  },
  {
   "cell_type": "code",
   "execution_count": 98,
   "source": [
    "offline_model.critic(torch.FloatTensor([buffer.next_state[9749]]), torch.FloatTensor([offline_model.select_action(buffer.next_state[9749])]))"
   ],
   "outputs": [
    {
     "output_type": "execute_result",
     "data": {
      "text/plain": [
       "(tensor([[-10179.7705]], grad_fn=<AddmmBackward>),\n",
       " tensor([[-10130.4355]], grad_fn=<AddmmBackward>))"
      ]
     },
     "metadata": {},
     "execution_count": 98
    }
   ],
   "metadata": {}
  },
  {
   "cell_type": "code",
   "execution_count": null,
   "source": [],
   "outputs": [],
   "metadata": {}
  }
 ],
 "metadata": {
  "orig_nbformat": 4,
  "language_info": {
   "name": "python",
   "version": "3.7.9",
   "mimetype": "text/x-python",
   "codemirror_mode": {
    "name": "ipython",
    "version": 3
   },
   "pygments_lexer": "ipython3",
   "nbconvert_exporter": "python",
   "file_extension": ".py"
  },
  "kernelspec": {
   "name": "python3",
   "display_name": "Python 3.7.9 64-bit ('base': conda)"
  },
  "interpreter": {
   "hash": "e029173cf220160612635ca02fa19a173ac066ebf0fb12dac4878639abd2efcf"
  }
 },
 "nbformat": 4,
 "nbformat_minor": 2
}