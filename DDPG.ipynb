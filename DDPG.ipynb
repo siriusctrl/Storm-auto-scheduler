{
 "metadata": {
  "language_info": {
   "codemirror_mode": {
    "name": "ipython",
    "version": 3
   },
   "file_extension": ".py",
   "mimetype": "text/x-python",
   "name": "python",
   "nbconvert_exporter": "python",
   "pygments_lexer": "ipython3",
   "version": "3.7.9"
  },
  "orig_nbformat": 4,
  "kernelspec": {
   "name": "python3",
   "display_name": "Python 3.7.9 64-bit ('base': conda)"
  },
  "interpreter": {
   "hash": "e029173cf220160612635ca02fa19a173ac066ebf0fb12dac4878639abd2efcf"
  }
 },
 "nbformat": 4,
 "nbformat_minor": 2,
 "cells": [
  {
   "cell_type": "code",
   "execution_count": 1,
   "metadata": {},
   "outputs": [],
   "source": [
    "import numpy as np\n",
    "import argparse\n",
    "from copy import deepcopy\n",
    "import gym\n",
    "import torch\n",
    "import time"
   ]
  },
  {
   "cell_type": "code",
   "execution_count": 8,
   "metadata": {},
   "outputs": [],
   "source": [
    "import sys\n",
    "sys.path.append('./Simulator')\n",
    "sys.path.append('./Woptinger')"
   ]
  },
  {
   "cell_type": "code",
   "execution_count": 18,
   "metadata": {},
   "outputs": [],
   "source": [
    "from Wolptinger.ddpg import DDPG\n",
    "from Wolptinger.utils import *\n",
    "from Wolptinger.evaluator import Evaluator\n",
    "\n",
    "from Simulator.WordCounting import WordCountingEnv"
   ]
  },
  {
   "cell_type": "code",
   "execution_count": 19,
   "metadata": {},
   "outputs": [
    {
     "output_type": "stream",
     "name": "stdout",
     "text": [
      "The autoreload extension is already loaded. To reload it, use:\n  %reload_ext autoreload\n"
     ]
    }
   ],
   "source": [
    "%load_ext autoreload\n",
    "%autoreload 2"
   ]
  },
  {
   "cell_type": "code",
   "execution_count": 20,
   "metadata": {},
   "outputs": [],
   "source": [
    "def train(num_iterations, agent, env, evaluate, validate_steps, output, max_episode_length=None, debug=False):\n",
    "    agent.is_training = True\n",
    "    step = episode = episode_steps = 0\n",
    "    episode_reward = 0.\n",
    "    observation = None\n",
    "\n",
    "    while step < num_iterations:\n",
    "        # reset if it is the start of episode\n",
    "        if observation is None:\n",
    "            # the original method use deepcopy here\n",
    "            observation = env.reset()\n",
    "            agent.reset(observation)\n",
    "        \n",
    "        # agent choose action\n",
    "        if step < args.warmup:\n",
    "            action = agent.random_action()\n",
    "        else:\n",
    "            action = agent.select_action(observation)\n",
    "        \n",
    "        next_state, reward, done, info = env.step(action)\n",
    "        if max_episode_length and episode_steps >= max_episode_length - 1:\n",
    "            done = True\n",
    "        \n",
    "        # agent observe and update policy\n",
    "        agent.observe(reward, next_state, done)\n",
    "        if step > args.warmup:\n",
    "            agent.update_policy()\n",
    "        \n",
    "        # evaluate the model\n",
    "        # I personally don't think this will work, also, this will let the model memory a wrong\n",
    "        # action\n",
    "        if evaluate is not None and validate_steps > 0 and step % validate_steps == 0:\n",
    "            policy = lambda x: agent.select_action(x, decay_epsilon=False)\n",
    "            validate_reward = evaluate(env, policy, debug=False, visualize=False, save=False)\n",
    "            if debug: \n",
    "                prYellow('[Evaluate] Step_{:07d}: mean_reward:{}'.format(step, validate_reward))\n",
    "            agent.s_t = observation\n",
    "            agent.a_t = action\n",
    "\n",
    "        # save intermidate training model\n",
    "        if step % int(num_iterations/3) == 0:\n",
    "            agent.save_model(output)\n",
    "        \n",
    "        # update models\n",
    "        step += 1\n",
    "        episode_steps += 1\n",
    "        episode_reward += reward\n",
    "        observation = next_state\n",
    "        \n",
    "        # end of episode\n",
    "        if done:\n",
    "            if debug:\n",
    "                prLightPurple(f'#{episode}: episode_reward: {episode_reward} steps:{step}')\n",
    "            \n",
    "            # agent.memory.append(\n",
    "            #     observation,\n",
    "            #     agent.select_action(observation)\n",
    "            #     0.,\n",
    "            #     False\n",
    "            # )\n",
    "\n",
    "            # reset\n",
    "            observation = None\n",
    "            episode_steps = 0\n",
    "            episode_reward = 0.\n",
    "            episode += 1"
   ]
  },
  {
   "cell_type": "code",
   "execution_count": 21,
   "metadata": {},
   "outputs": [],
   "source": [
    "def test(num_episodes, agent, env, evaluate, model_path, visualize=True, debug=False):\n",
    "\n",
    "    agent.load_weights(model_path)\n",
    "    agent.is_training = False\n",
    "    agent.eval()\n",
    "    policy = lambda x: agent.select_action(x, decay_epsilon=False)\n",
    "\n",
    "    for i in range(num_episodes):\n",
    "        validate_reward = evaluate(env, policy, debug=debug, visualize=visualize, save=False)\n",
    "        if debug: \n",
    "            prYellow('[Evaluate] #{}: mean_reward:{}'.format(i, validate_reward))"
   ]
  },
  {
   "cell_type": "code",
   "execution_count": 22,
   "metadata": {},
   "outputs": [],
   "source": [
    "class Arguments(object):\n",
    "    def __init__(self):\n",
    "        self.mode = 'train'\n",
    "        # self.env = \"InvertedPendulum-v2\"\n",
    "        self.env = 'WordCountingEnv'\n",
    "        self.h1 = 128\n",
    "        self.h2 = 128\n",
    "        self.rate = 1e-3\n",
    "        self.prate = 1e-3\n",
    "        self.warmup = 100\n",
    "        self.discount = 0.99\n",
    "        self.bsize = 64\n",
    "        self.rmsize = 10000\n",
    "        self.window_length = 1\n",
    "        self.tau = 0.001\n",
    "        self.ou_theta = 0.15\n",
    "        self.ou_sigma = 0.2\n",
    "        self.ou_mu = 0.0\n",
    "        self.validate_episodes = 20\n",
    "        self.max_episode_length = 50\n",
    "        self.validate_steps = 2000\n",
    "        self.output = 'output'\n",
    "        self.debug = True\n",
    "        self.init_w = 0.003\n",
    "        self.train_iter = 15000\n",
    "        # self.epsilon = 50000\n",
    "        self.epsilon = 10000\n",
    "        self.seed = -1\n",
    "        self.resume = 'default'\n",
    "        self.k_ratio = 1e-6\n",
    "        # we pass in the pre_generated action space\n",
    "        self.action_space = None\n",
    "\n",
    "args = Arguments()"
   ]
  },
  {
   "cell_type": "code",
   "execution_count": 26,
   "metadata": {
    "tags": []
   },
   "outputs": [
    {
     "output_type": "stream",
     "name": "stdout",
     "text": [
      "Building Topology\nspout 2\nWordCount 9\nDatabase 9\ntorch.Size([128, 17])\ntorch.Size([128, 17])\n"
     ]
    },
    {
     "output_type": "error",
     "ename": "KeyboardInterrupt",
     "evalue": "",
     "traceback": [
      "\u001b[0;31m---------------------------------------------------------------------------\u001b[0m",
      "\u001b[0;31mKeyboardInterrupt\u001b[0m                         Traceback (most recent call last)",
      "\u001b[0;32m~/Documents/Storm-auto-scheduler/Simulator/Bolt.py\u001b[0m in \u001b[0;36mrun\u001b[0;34m(self)\u001b[0m\n\u001b[1;32m    116\u001b[0m                             \u001b[0mcum_time\u001b[0m \u001b[0;34m+=\u001b[0m \u001b[0mpt\u001b[0m\u001b[0;34m\u001b[0m\u001b[0;34m\u001b[0m\u001b[0m\n\u001b[0;32m--> 117\u001b[0;31m                             \u001b[0mpdata_list\u001b[0m \u001b[0;34m+=\u001b[0m \u001b[0mnew_data_list\u001b[0m\u001b[0;34m\u001b[0m\u001b[0;34m\u001b[0m\u001b[0m\n\u001b[0m\u001b[1;32m    118\u001b[0m \u001b[0;34m\u001b[0m\u001b[0m\n",
      "\u001b[0;31mKeyboardInterrupt\u001b[0m: ",
      "\nThe above exception was the direct cause of the following exception:\n",
      "\u001b[0;31mKeyboardInterrupt\u001b[0m                         Traceback (most recent call last)",
      "\u001b[0;32m<ipython-input-26-0e6829e82497>\u001b[0m in \u001b[0;36m<module>\u001b[0;34m\u001b[0m\n\u001b[1;32m     24\u001b[0m \u001b[0;32mif\u001b[0m \u001b[0margs\u001b[0m\u001b[0;34m.\u001b[0m\u001b[0mmode\u001b[0m \u001b[0;34m==\u001b[0m \u001b[0;34m'train'\u001b[0m\u001b[0;34m:\u001b[0m\u001b[0;34m\u001b[0m\u001b[0;34m\u001b[0m\u001b[0m\n\u001b[1;32m     25\u001b[0m     train(args.train_iter, agent, env, None, \n\u001b[0;32m---> 26\u001b[0;31m         args.validate_steps, args.output, max_episode_length=args.max_episode_length, debug=args.debug)\n\u001b[0m\u001b[1;32m     27\u001b[0m     \u001b[0mend_time\u001b[0m \u001b[0;34m=\u001b[0m \u001b[0mtime\u001b[0m\u001b[0;34m.\u001b[0m\u001b[0mtime\u001b[0m\u001b[0;34m(\u001b[0m\u001b[0;34m)\u001b[0m\u001b[0;34m\u001b[0m\u001b[0;34m\u001b[0m\u001b[0m\n\u001b[1;32m     28\u001b[0m \u001b[0;34m\u001b[0m\u001b[0m\n",
      "\u001b[0;32m<ipython-input-20-7205c9983d97>\u001b[0m in \u001b[0;36mtrain\u001b[0;34m(num_iterations, agent, env, evaluate, validate_steps, output, max_episode_length, debug)\u001b[0m\n\u001b[1;32m     18\u001b[0m             \u001b[0maction\u001b[0m \u001b[0;34m=\u001b[0m \u001b[0magent\u001b[0m\u001b[0;34m.\u001b[0m\u001b[0mselect_action\u001b[0m\u001b[0;34m(\u001b[0m\u001b[0mobservation\u001b[0m\u001b[0;34m)\u001b[0m\u001b[0;34m\u001b[0m\u001b[0;34m\u001b[0m\u001b[0m\n\u001b[1;32m     19\u001b[0m \u001b[0;34m\u001b[0m\u001b[0m\n\u001b[0;32m---> 20\u001b[0;31m         \u001b[0mnext_state\u001b[0m\u001b[0;34m,\u001b[0m \u001b[0mreward\u001b[0m\u001b[0;34m,\u001b[0m \u001b[0mdone\u001b[0m\u001b[0;34m,\u001b[0m \u001b[0minfo\u001b[0m \u001b[0;34m=\u001b[0m \u001b[0menv\u001b[0m\u001b[0;34m.\u001b[0m\u001b[0mstep\u001b[0m\u001b[0;34m(\u001b[0m\u001b[0maction\u001b[0m\u001b[0;34m)\u001b[0m\u001b[0;34m\u001b[0m\u001b[0;34m\u001b[0m\u001b[0m\n\u001b[0m\u001b[1;32m     21\u001b[0m         \u001b[0;32mif\u001b[0m \u001b[0mmax_episode_length\u001b[0m \u001b[0;32mand\u001b[0m \u001b[0mepisode_steps\u001b[0m \u001b[0;34m>=\u001b[0m \u001b[0mmax_episode_length\u001b[0m \u001b[0;34m-\u001b[0m \u001b[0;36m1\u001b[0m\u001b[0;34m:\u001b[0m\u001b[0;34m\u001b[0m\u001b[0;34m\u001b[0m\u001b[0m\n\u001b[1;32m     22\u001b[0m             \u001b[0mdone\u001b[0m \u001b[0;34m=\u001b[0m \u001b[0;32mTrue\u001b[0m\u001b[0;34m\u001b[0m\u001b[0;34m\u001b[0m\u001b[0m\n",
      "\u001b[0;32m~/Documents/Storm-auto-scheduler/Simulator/WordCounting.py\u001b[0m in \u001b[0;36mstep\u001b[0;34m(self, new_assignments)\u001b[0m\n\u001b[1;32m     56\u001b[0m         \u001b[0;31m# print(new_assignments)\u001b[0m\u001b[0;34m\u001b[0m\u001b[0;34m\u001b[0m\u001b[0;34m\u001b[0m\u001b[0m\n\u001b[1;32m     57\u001b[0m         \u001b[0mself\u001b[0m\u001b[0;34m.\u001b[0m\u001b[0mtopology\u001b[0m\u001b[0;34m.\u001b[0m\u001b[0mupdate_assignments\u001b[0m\u001b[0;34m(\u001b[0m\u001b[0mnew_assignments\u001b[0m\u001b[0;34m)\u001b[0m\u001b[0;34m\u001b[0m\u001b[0;34m\u001b[0m\u001b[0m\n\u001b[0;32m---> 58\u001b[0;31m         \u001b[0mself\u001b[0m\u001b[0;34m.\u001b[0m\u001b[0mwarm\u001b[0m\u001b[0;34m(\u001b[0m\u001b[0;34m)\u001b[0m\u001b[0;34m\u001b[0m\u001b[0;34m\u001b[0m\u001b[0m\n\u001b[0m\u001b[1;32m     59\u001b[0m         \u001b[0mreward\u001b[0m \u001b[0;34m=\u001b[0m \u001b[0mself\u001b[0m\u001b[0;34m.\u001b[0m\u001b[0monce\u001b[0m\u001b[0;34m(\u001b[0m\u001b[0;34m)\u001b[0m\u001b[0;34m\u001b[0m\u001b[0;34m\u001b[0m\u001b[0m\n\u001b[1;32m     60\u001b[0m         \u001b[0;31m# the observation is the current deployment(after softmax) + data incoming rate\u001b[0m\u001b[0;34m\u001b[0m\u001b[0;34m\u001b[0m\u001b[0;34m\u001b[0m\u001b[0m\n",
      "\u001b[0;32m~/Documents/Storm-auto-scheduler/Simulator/WordCounting.py\u001b[0m in \u001b[0;36mwarm\u001b[0;34m(self)\u001b[0m\n\u001b[1;32m     76\u001b[0m \u001b[0;34m\u001b[0m\u001b[0m\n\u001b[1;32m     77\u001b[0m     \u001b[0;32mdef\u001b[0m \u001b[0mwarm\u001b[0m\u001b[0;34m(\u001b[0m\u001b[0mself\u001b[0m\u001b[0;34m)\u001b[0m\u001b[0;34m:\u001b[0m\u001b[0;34m\u001b[0m\u001b[0;34m\u001b[0m\u001b[0m\n\u001b[0;32m---> 78\u001b[0;31m         \u001b[0mself\u001b[0m\u001b[0;34m.\u001b[0m\u001b[0mtopology\u001b[0m\u001b[0;34m.\u001b[0m\u001b[0mupdate_states\u001b[0m\u001b[0;34m(\u001b[0m\u001b[0mtime\u001b[0m\u001b[0;34m=\u001b[0m\u001b[0;36m2000\u001b[0m\u001b[0;34m,\u001b[0m \u001b[0mtrack\u001b[0m\u001b[0;34m=\u001b[0m\u001b[0;32mFalse\u001b[0m\u001b[0;34m)\u001b[0m\u001b[0;34m\u001b[0m\u001b[0;34m\u001b[0m\u001b[0m\n\u001b[0m\u001b[1;32m     79\u001b[0m \u001b[0;34m\u001b[0m\u001b[0m\n\u001b[1;32m     80\u001b[0m     \u001b[0;32mdef\u001b[0m \u001b[0mseed\u001b[0m\u001b[0;34m(\u001b[0m\u001b[0mself\u001b[0m\u001b[0;34m)\u001b[0m\u001b[0;34m:\u001b[0m\u001b[0;34m\u001b[0m\u001b[0;34m\u001b[0m\u001b[0m\n",
      "\u001b[0;32m~/Documents/Storm-auto-scheduler/Simulator/Topology.py\u001b[0m in \u001b[0;36mupdate_states\u001b[0;34m(self, time, track)\u001b[0m\n\u001b[1;32m    203\u001b[0m             \u001b[0;31m# This should only use for debug or data collection for cold start\u001b[0m\u001b[0;34m\u001b[0m\u001b[0;34m\u001b[0m\u001b[0;34m\u001b[0m\u001b[0m\n\u001b[1;32m    204\u001b[0m             \u001b[0mnext_batch\u001b[0m \u001b[0;34m=\u001b[0m \u001b[0mint\u001b[0m\u001b[0;34m(\u001b[0m\u001b[0mround\u001b[0m\u001b[0;34m(\u001b[0m\u001b[0mself\u001b[0m\u001b[0;34m.\u001b[0m\u001b[0menv\u001b[0m\u001b[0;34m.\u001b[0m\u001b[0mnow\u001b[0m\u001b[0;34m,\u001b[0m \u001b[0;36m0\u001b[0m\u001b[0;34m)\u001b[0m\u001b[0;34m)\u001b[0m \u001b[0;34m+\u001b[0m \u001b[0mtime\u001b[0m\u001b[0;34m\u001b[0m\u001b[0;34m\u001b[0m\u001b[0m\n\u001b[0;32m--> 205\u001b[0;31m             \u001b[0mself\u001b[0m\u001b[0;34m.\u001b[0m\u001b[0menv\u001b[0m\u001b[0;34m.\u001b[0m\u001b[0mrun\u001b[0m\u001b[0;34m(\u001b[0m\u001b[0muntil\u001b[0m\u001b[0;34m=\u001b[0m\u001b[0mnext_batch\u001b[0m\u001b[0;34m)\u001b[0m\u001b[0;34m\u001b[0m\u001b[0;34m\u001b[0m\u001b[0m\n\u001b[0m\u001b[1;32m    206\u001b[0m \u001b[0;34m\u001b[0m\u001b[0m\n\u001b[1;32m    207\u001b[0m     \u001b[0;32mdef\u001b[0m \u001b[0mround_robin_init\u001b[0m\u001b[0;34m(\u001b[0m\u001b[0mself\u001b[0m\u001b[0;34m,\u001b[0m \u001b[0mshuffle\u001b[0m\u001b[0;34m=\u001b[0m\u001b[0;32mFalse\u001b[0m\u001b[0;34m)\u001b[0m \u001b[0;34m->\u001b[0m \u001b[0;32mNone\u001b[0m\u001b[0;34m:\u001b[0m\u001b[0;34m\u001b[0m\u001b[0;34m\u001b[0m\u001b[0m\n",
      "\u001b[0;32m~/.local/lib/python3.7/site-packages/simpy/core.py\u001b[0m in \u001b[0;36mrun\u001b[0;34m(self, until)\u001b[0m\n\u001b[1;32m    252\u001b[0m         \u001b[0;32mtry\u001b[0m\u001b[0;34m:\u001b[0m\u001b[0;34m\u001b[0m\u001b[0;34m\u001b[0m\u001b[0m\n\u001b[1;32m    253\u001b[0m             \u001b[0;32mwhile\u001b[0m \u001b[0;32mTrue\u001b[0m\u001b[0;34m:\u001b[0m\u001b[0;34m\u001b[0m\u001b[0;34m\u001b[0m\u001b[0m\n\u001b[0;32m--> 254\u001b[0;31m                 \u001b[0mself\u001b[0m\u001b[0;34m.\u001b[0m\u001b[0mstep\u001b[0m\u001b[0;34m(\u001b[0m\u001b[0;34m)\u001b[0m\u001b[0;34m\u001b[0m\u001b[0;34m\u001b[0m\u001b[0m\n\u001b[0m\u001b[1;32m    255\u001b[0m         \u001b[0;32mexcept\u001b[0m \u001b[0mStopSimulation\u001b[0m \u001b[0;32mas\u001b[0m \u001b[0mexc\u001b[0m\u001b[0;34m:\u001b[0m\u001b[0;34m\u001b[0m\u001b[0;34m\u001b[0m\u001b[0m\n\u001b[1;32m    256\u001b[0m             \u001b[0;32mreturn\u001b[0m \u001b[0mexc\u001b[0m\u001b[0;34m.\u001b[0m\u001b[0margs\u001b[0m\u001b[0;34m[\u001b[0m\u001b[0;36m0\u001b[0m\u001b[0;34m]\u001b[0m  \u001b[0;31m# == until.value\u001b[0m\u001b[0;34m\u001b[0m\u001b[0;34m\u001b[0m\u001b[0m\n",
      "\u001b[0;32m~/.local/lib/python3.7/site-packages/simpy/core.py\u001b[0m in \u001b[0;36mstep\u001b[0;34m(self)\u001b[0m\n\u001b[1;32m    204\u001b[0m             \u001b[0mexc\u001b[0m \u001b[0;34m=\u001b[0m \u001b[0mtype\u001b[0m\u001b[0;34m(\u001b[0m\u001b[0mevent\u001b[0m\u001b[0;34m.\u001b[0m\u001b[0m_value\u001b[0m\u001b[0;34m)\u001b[0m\u001b[0;34m(\u001b[0m\u001b[0;34m*\u001b[0m\u001b[0mevent\u001b[0m\u001b[0;34m.\u001b[0m\u001b[0m_value\u001b[0m\u001b[0;34m.\u001b[0m\u001b[0margs\u001b[0m\u001b[0;34m)\u001b[0m\u001b[0;34m\u001b[0m\u001b[0;34m\u001b[0m\u001b[0m\n\u001b[1;32m    205\u001b[0m             \u001b[0mexc\u001b[0m\u001b[0;34m.\u001b[0m\u001b[0m__cause__\u001b[0m \u001b[0;34m=\u001b[0m \u001b[0mevent\u001b[0m\u001b[0;34m.\u001b[0m\u001b[0m_value\u001b[0m\u001b[0;34m\u001b[0m\u001b[0;34m\u001b[0m\u001b[0m\n\u001b[0;32m--> 206\u001b[0;31m             \u001b[0;32mraise\u001b[0m \u001b[0mexc\u001b[0m\u001b[0;34m\u001b[0m\u001b[0;34m\u001b[0m\u001b[0m\n\u001b[0m\u001b[1;32m    207\u001b[0m \u001b[0;34m\u001b[0m\u001b[0m\n\u001b[1;32m    208\u001b[0m     def run(\n",
      "\u001b[0;31mKeyboardInterrupt\u001b[0m: "
     ]
    }
   ],
   "source": [
    "args.output = get_output_folder(args.output, args.env)\n",
    "if args.resume == 'default':\n",
    "    args.resume = 'WordCountingDDPG/{}-run0'.format(args.env)\n",
    "\n",
    "# env = NormalizedEnv(gym.make(args.env))\n",
    "# env = gym.make(args.env)\n",
    "env = WordCountingEnv()\n",
    "args.low = env.action_space.low\n",
    "args.high = env.action_space.high\n",
    "\n",
    "if args.seed > 0:\n",
    "    np.random.seed(args.seed)\n",
    "    env.seed(args.seed)\n",
    "\n",
    "nb_states = env.observation_space.shape[0]\n",
    "nb_actions = env.action_space.shape[0]\n",
    "\n",
    "agent = DDPG(nb_states, nb_actions, args)\n",
    "evaluate = Evaluator(args.validate_episodes, \n",
    "    args.validate_steps, args.output, max_episode_length=args.max_episode_length)\n",
    "\n",
    "start_time = time.time()\n",
    "\n",
    "if args.mode == 'train':\n",
    "    train(args.train_iter, agent, env, None, \n",
    "        args.validate_steps, args.output, max_episode_length=args.max_episode_length, debug=args.debug)\n",
    "    end_time = time.time()\n",
    "\n",
    "elif args.mode == 'test':\n",
    "    test(args.validate_episodes, agent, env, evaluate, args.resume,\n",
    "        visualize=True, debug=args.debug)\n",
    "\n",
    "else:\n",
    "    raise RuntimeError('undefined mode {}'.format(args.mode))"
   ]
  },
  {
   "cell_type": "code",
   "execution_count": null,
   "metadata": {},
   "outputs": [],
   "source": []
  }
 ]
}